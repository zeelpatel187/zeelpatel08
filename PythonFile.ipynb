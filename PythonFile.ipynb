{
 "cells": [
  {
   "cell_type": "code",
   "execution_count": 1,
   "id": "e49df2c7",
   "metadata": {},
   "outputs": [],
   "source": [
    "#Import Python Libraries\n",
    "import pandas as pd\n",
    "import numpy as np\n",
    "import matplotlib.pyplot as plt"
   ]
  },
  {
   "cell_type": "code",
   "execution_count": 15,
   "id": "b214db81",
   "metadata": {},
   "outputs": [],
   "source": [
    "# define variables for the csv files, this step is not mandatory \n",
    "#but it will help to understand the importing data step in Python\n",
    "\n",
    "File_1 = \"D:/Assignments/INTRODUCTION TO DATA ANALYSIS_1200/1200_Data/youtube_dataset.csv\""
   ]
  },
  {
   "cell_type": "code",
   "execution_count": 19,
   "id": "823798b2",
   "metadata": {},
   "outputs": [],
   "source": [
    "# Read the csv file \n",
    "raw_df = pd.read_csv(File_1)"
   ]
  },
  {
   "cell_type": "code",
   "execution_count": 24,
   "id": "8250365a",
   "metadata": {},
   "outputs": [],
   "source": [
    "df1= raw_df.sort_values(by=['subscribers'], axis=0, ascending = False)"
   ]
  },
  {
   "cell_type": "code",
   "execution_count": 25,
   "id": "07658270",
   "metadata": {},
   "outputs": [],
   "source": [
    "# 3. Creating a function to:-\n",
    "#    a) Sort the data in descending order with respect to subscribers \n",
    "#    b) Create a new dataframe with Top 1000 subscribers and plot the distribution\n",
    "#    c) Plot distribution table and graph\n",
    "#    d) Save the file in CSV\n",
    "    \n",
    "def youtube_fn(df, channeltype):\n",
    "    \n",
    "    df2 = df1.iloc[:1000,:]\n",
    "    df2.to_csv('youtubedata1000.csv')\n",
    "    print(df2.groupby(channeltype)[channeltype].count().reset_index(name='Channel Count').sort_values(['Channel Count'], ascending=False))\n",
    "    df2[channeltype].value_counts().plot(kind='bar')\n",
    "    plt.ylabel('Channel Count')\n",
    "    plt.xlabel('Channel Type')\n",
    "    plt.title('Channel Distribution')"
   ]
  },
  {
   "cell_type": "code",
   "execution_count": 26,
   "id": "735f6080",
   "metadata": {},
   "outputs": [
    {
     "name": "stdout",
     "output_type": "stream",
     "text": [
      "      channeltype  Channel Count\n",
      "4   Entertainment            284\n",
      "8           Music            240\n",
      "6           Games            115\n",
      "2          Comedy             76\n",
      "11         People             72\n",
      "7           Howto             49\n",
      "5            Film             36\n",
      "3       Education             30\n",
      "13           Tech             19\n",
      "9            News             17\n",
      "12         Sports             17\n",
      "1           Autos              3\n",
      "0         Animals              2\n",
      "10      Nonprofit              1\n",
      "14         Travel              1\n"
     ]
    },
    {
     "data": {
      "image/png": "[encoded data removed]",
      "text/plain": [
       "<Figure size 432x288 with 1 Axes>"
      ]
     },
     "metadata": {
      "needs_background": "light"
     },
     "output_type": "display_data"
    }
   ],
   "source": [
    "# Calling the function\n",
    "youtube_fn(raw_df,'channeltype')"
   ]
  },
  {
   "cell_type": "code",
   "execution_count": null,
   "id": "b389a5a3",
   "metadata": {},
   "outputs": [],
   "source": []
  }
 ],
 "metadata": {
  "kernelspec": {
   "display_name": "Python 3",
   "language": "python",
   "name": "python3"
  },
  "language_info": {
   "codemirror_mode": {
    "name": "ipython",
    "version": 3
   },
   "file_extension": ".py",
   "mimetype": "text/x-python",
   "name": "python",
   "nbconvert_exporter": "python",
   "pygments_lexer": "ipython3",
   "version": "3.8.8"
  }
 },
 "nbformat": 4,
 "nbformat_minor": 5
}
